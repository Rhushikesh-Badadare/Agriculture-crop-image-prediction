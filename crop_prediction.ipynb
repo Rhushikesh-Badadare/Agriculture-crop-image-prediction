{
 "cells": [
  {
   "cell_type": "code",
   "execution_count": 1,
   "id": "a974ebe7",
   "metadata": {},
   "outputs": [],
   "source": [
    "#from tensorflow.keras.preprocessing.image import ImageDataGenerator"
   ]
  },
  {
   "cell_type": "code",
   "execution_count": 2,
   "id": "711524bb",
   "metadata": {},
   "outputs": [],
   "source": [
    "#data_gen = ImageDataGenerator(rotation_range=0.2, zoom_range=0.2,\n",
    "#                              horizontal_flip=True, rescale=1/255)"
   ]
  },
  {
   "cell_type": "code",
   "execution_count": 3,
   "id": "cb3b5f2e",
   "metadata": {},
   "outputs": [],
   "source": [
    "#train_data = data_gen.flow_from_directory( directory='../../../../Dataset/Agriculture_crop_prediction/crop_images/',\n",
    "#                            target_size=(224,224))"
   ]
  },
  {
   "cell_type": "code",
   "execution_count": 4,
   "id": "8dd081dc",
   "metadata": {},
   "outputs": [],
   "source": [
    "#from tensorflow.keras.models import Sequential\n",
    "#from tensorflow.keras.layers import Conv2D, MaxPool2D, Flatten,Dense"
   ]
  },
  {
   "cell_type": "code",
   "execution_count": 5,
   "id": "305dd3f3",
   "metadata": {},
   "outputs": [
    {
     "data": {
      "text/plain": [
       "\"model = Sequential()\\nmodel.add(Conv2D(32,(3,3),activation='relu',input_shape=(224,224,3)))\\nmodel.add(MaxPool2D())\\nmodel.add(Conv2D(64,(5,5), activation='relu'))\\nmodel.add(MaxPool2D())\\nmodel.add(Conv2D(128,(3,3), activation='relu'))\\nmodel.add(MaxPool2D())\\nmodel.add(Conv2D(128,(7,7), activation='relu'))\\nmodel.add(MaxPool2D())\\nmodel.add(Conv2D(256,(3,3), activation='relu'))\\nmodel.add(MaxPool2D())\\nmodel.add(Flatten())\\nmodel.add(Dense(5,activation='softmax'))\\n\\nmodel.compile(loss='categorical_crossentropy',optimizer='adam',metrics=['accuracy'])\""
      ]
     },
     "execution_count": 5,
     "metadata": {},
     "output_type": "execute_result"
    }
   ],
   "source": [
    "'''model = Sequential()\n",
    "model.add(Conv2D(32,(3,3),activation='relu',input_shape=(224,224,3)))\n",
    "model.add(MaxPool2D())\n",
    "model.add(Conv2D(64,(5,5), activation='relu'))\n",
    "model.add(MaxPool2D())\n",
    "model.add(Conv2D(128,(3,3), activation='relu'))\n",
    "model.add(MaxPool2D())\n",
    "model.add(Conv2D(128,(7,7), activation='relu'))\n",
    "model.add(MaxPool2D())\n",
    "model.add(Conv2D(256,(3,3), activation='relu'))\n",
    "model.add(MaxPool2D())\n",
    "model.add(Flatten())\n",
    "model.add(Dense(5,activation='softmax'))\n",
    "\n",
    "model.compile(loss='categorical_crossentropy',optimizer='adam',metrics=['accuracy'])'''"
   ]
  },
  {
   "cell_type": "code",
   "execution_count": 6,
   "id": "f0884cab",
   "metadata": {},
   "outputs": [],
   "source": [
    "#model.fit(train_data, epochs=50)"
   ]
  },
  {
   "cell_type": "code",
   "execution_count": 7,
   "id": "d09e04c8",
   "metadata": {},
   "outputs": [],
   "source": [
    "#train_data.class_indices"
   ]
  },
  {
   "cell_type": "code",
   "execution_count": 8,
   "id": "288bb698",
   "metadata": {},
   "outputs": [],
   "source": [
    "#model.save('agri_crop_model2_kag2.h5')"
   ]
  },
  {
   "cell_type": "markdown",
   "id": "7408dfe0",
   "metadata": {},
   "source": [
    "# For crop img i/p data"
   ]
  },
  {
   "cell_type": "markdown",
   "id": "e8cc038a",
   "metadata": {},
   "source": [
    "### 1) Own Model :"
   ]
  },
  {
   "cell_type": "code",
   "execution_count": 9,
   "id": "b8dafcb1",
   "metadata": {},
   "outputs": [
    {
     "name": "stdout",
     "output_type": "stream",
     "text": [
      "Found 201 images belonging to 5 classes.\n"
     ]
    }
   ],
   "source": [
    "from tensorflow.keras.preprocessing.image import ImageDataGenerator\n",
    "data_gen = ImageDataGenerator(rotation_range=0.2, zoom_range=0.2,\n",
    "                             horizontal_flip=True, rescale=1/255)\n",
    "train_data = data_gen.flow_from_directory( directory='../../../../Dataset/Agriculture_crop_prediction/crop_images/',\n",
    "                           target_size=(224,224))"
   ]
  },
  {
   "cell_type": "code",
   "execution_count": 10,
   "id": "435654f7",
   "metadata": {},
   "outputs": [
    {
     "data": {
      "text/plain": [
       "{'jute': 0, 'maize': 1, 'rice': 2, 'sugarcane': 3, 'wheat': 4}"
      ]
     },
     "execution_count": 10,
     "metadata": {},
     "output_type": "execute_result"
    }
   ],
   "source": [
    "train_data.class_indices"
   ]
  },
  {
   "cell_type": "code",
   "execution_count": 11,
   "id": "9443d83f",
   "metadata": {},
   "outputs": [],
   "source": [
    "from tensorflow.keras.models import load_model"
   ]
  },
  {
   "cell_type": "code",
   "execution_count": 12,
   "id": "4018b7b9",
   "metadata": {},
   "outputs": [],
   "source": [
    "model1 = load_model('Own_model_crop/crop_img_1st_own_model.h5')"
   ]
  },
  {
   "cell_type": "code",
   "execution_count": 13,
   "id": "45edfc50",
   "metadata": {},
   "outputs": [],
   "source": [
    "import cv2\n",
    "def predict_img(path):\n",
    "    img = cv2.imread(path)\n",
    "    img = cv2.resize(img,(224,224))/255\n",
    "    yp = model1.predict_on_batch(img.reshape(1,224,224,3)).argmax()\n",
    "    if yp==0:\n",
    "        return('jute')               # this yp = 0 is Jute is given by checking traindata.indices\n",
    "    elif yp==1:                      # also same for all\n",
    "        return('maize')\n",
    "    elif yp==2:\n",
    "        return('rice')\n",
    "    elif yp==3:\n",
    "        return('sugarcane')\n",
    "    elif yp==4:\n",
    "        return('wheat')"
   ]
  },
  {
   "cell_type": "code",
   "execution_count": 15,
   "id": "00899880",
   "metadata": {},
   "outputs": [],
   "source": [
    "import os\n",
    "filenames = os.listdir('../../../../Dataset/Agriculture_crop_prediction/test_crop_image/')"
   ]
  },
  {
   "cell_type": "code",
   "execution_count": 16,
   "id": "ae3cf3e6",
   "metadata": {},
   "outputs": [],
   "source": [
    "original =[]\n",
    "predicted = []\n",
    "for filename in filenames:\n",
    "    output = predict_img('../../../../Dataset/Agriculture_crop_prediction/test_crop_image/'+filename)\n",
    "    original.append(filename)\n",
    "    predicted.append(output)"
   ]
  },
  {
   "cell_type": "code",
   "execution_count": 17,
   "id": "4ce7c350",
   "metadata": {},
   "outputs": [],
   "source": [
    "import pandas as pd\n",
    "df1 = pd.DataFrame()"
   ]
  },
  {
   "cell_type": "code",
   "execution_count": 18,
   "id": "184efe69",
   "metadata": {},
   "outputs": [],
   "source": [
    "predict_count = []"
   ]
  },
  {
   "cell_type": "code",
   "execution_count": 19,
   "id": "e1a430b7",
   "metadata": {},
   "outputs": [],
   "source": [
    "for i in range(len(original)):\n",
    "    original[i] = original[i].lower()\n",
    "    predicted[i] = predicted[i].lower()\n",
    "    if original[i][:3] == predicted[i][:3]:\n",
    "        predict_count.append(1)\n",
    "    else:\n",
    "        predict_count.append(0)"
   ]
  },
  {
   "cell_type": "code",
   "execution_count": 20,
   "id": "633685f1",
   "metadata": {},
   "outputs": [
    {
     "data": {
      "text/plain": [
       "51"
      ]
     },
     "execution_count": 20,
     "metadata": {},
     "output_type": "execute_result"
    }
   ],
   "source": [
    "len(original)"
   ]
  },
  {
   "cell_type": "code",
   "execution_count": 21,
   "id": "e1bb4a00",
   "metadata": {},
   "outputs": [
    {
     "data": {
      "text/plain": [
       "51"
      ]
     },
     "execution_count": 21,
     "metadata": {},
     "output_type": "execute_result"
    }
   ],
   "source": [
    "len(predicted)"
   ]
  },
  {
   "cell_type": "code",
   "execution_count": 22,
   "id": "8c095725",
   "metadata": {},
   "outputs": [
    {
     "data": {
      "text/plain": [
       "51"
      ]
     },
     "execution_count": 22,
     "metadata": {},
     "output_type": "execute_result"
    }
   ],
   "source": [
    "len(predict_count)"
   ]
  },
  {
   "cell_type": "code",
   "execution_count": 23,
   "id": "3ccf1ca8",
   "metadata": {},
   "outputs": [],
   "source": [
    "df1['original'] = original\n",
    "df1['predicted'] = predicted\n",
    "df1['predicted_count'] = predict_count"
   ]
  },
  {
   "cell_type": "code",
   "execution_count": 24,
   "id": "c6c5c97c",
   "metadata": {},
   "outputs": [
    {
     "data": {
      "text/html": [
       "<div>\n",
       "<style scoped>\n",
       "    .dataframe tbody tr th:only-of-type {\n",
       "        vertical-align: middle;\n",
       "    }\n",
       "\n",
       "    .dataframe tbody tr th {\n",
       "        vertical-align: top;\n",
       "    }\n",
       "\n",
       "    .dataframe thead th {\n",
       "        text-align: right;\n",
       "    }\n",
       "</style>\n",
       "<table border=\"1\" class=\"dataframe\">\n",
       "  <thead>\n",
       "    <tr style=\"text-align: right;\">\n",
       "      <th></th>\n",
       "      <th>original</th>\n",
       "      <th>predicted</th>\n",
       "      <th>predicted_count</th>\n",
       "    </tr>\n",
       "  </thead>\n",
       "  <tbody>\n",
       "    <tr>\n",
       "      <th>0</th>\n",
       "      <td>jute-field.jpg</td>\n",
       "      <td>jute</td>\n",
       "      <td>1</td>\n",
       "    </tr>\n",
       "    <tr>\n",
       "      <th>1</th>\n",
       "      <td>jute002.jpg</td>\n",
       "      <td>jute</td>\n",
       "      <td>1</td>\n",
       "    </tr>\n",
       "    <tr>\n",
       "      <th>2</th>\n",
       "      <td>jute003.jpg</td>\n",
       "      <td>jute</td>\n",
       "      <td>1</td>\n",
       "    </tr>\n",
       "    <tr>\n",
       "      <th>3</th>\n",
       "      <td>jute03.jpg</td>\n",
       "      <td>jute</td>\n",
       "      <td>1</td>\n",
       "    </tr>\n",
       "    <tr>\n",
       "      <th>4</th>\n",
       "      <td>jutefield.jpg</td>\n",
       "      <td>maize</td>\n",
       "      <td>0</td>\n",
       "    </tr>\n",
       "  </tbody>\n",
       "</table>\n",
       "</div>"
      ],
      "text/plain": [
       "         original predicted  predicted_count\n",
       "0  jute-field.jpg      jute                1\n",
       "1     jute002.jpg      jute                1\n",
       "2     jute003.jpg      jute                1\n",
       "3      jute03.jpg      jute                1\n",
       "4   jutefield.jpg     maize                0"
      ]
     },
     "execution_count": 24,
     "metadata": {},
     "output_type": "execute_result"
    }
   ],
   "source": [
    "df1.head()"
   ]
  },
  {
   "cell_type": "code",
   "execution_count": 25,
   "id": "2e907557",
   "metadata": {},
   "outputs": [
    {
     "data": {
      "text/plain": [
       "16"
      ]
     },
     "execution_count": 25,
     "metadata": {},
     "output_type": "execute_result"
    }
   ],
   "source": [
    "df1['predicted_count'].value_counts()[1]"
   ]
  },
  {
   "cell_type": "code",
   "execution_count": 26,
   "id": "8de28369",
   "metadata": {},
   "outputs": [],
   "source": [
    "# 16 correctly predicted out of 51"
   ]
  },
  {
   "cell_type": "code",
   "execution_count": 27,
   "id": "42ae6669",
   "metadata": {},
   "outputs": [
    {
     "data": {
      "text/plain": [
       "0.3137254901960784"
      ]
     },
     "execution_count": 27,
     "metadata": {},
     "output_type": "execute_result"
    }
   ],
   "source": [
    "score = df1['predicted_count'].value_counts()[1]/len(predict_count)\n",
    "score"
   ]
  },
  {
   "cell_type": "markdown",
   "id": "b78a1df9",
   "metadata": {},
   "source": [
    "### 2) Resnet50 model :"
   ]
  },
  {
   "cell_type": "code",
   "execution_count": 28,
   "id": "05eebcb0",
   "metadata": {},
   "outputs": [],
   "source": [
    "from tensorflow.keras.models import load_model"
   ]
  },
  {
   "cell_type": "code",
   "execution_count": 29,
   "id": "39d4c3f6",
   "metadata": {},
   "outputs": [],
   "source": [
    "model2 = load_model('Resnet50_crop/crop_1st_resnet50.h5', compile = False)"
   ]
  },
  {
   "cell_type": "code",
   "execution_count": 30,
   "id": "b62c161c",
   "metadata": {},
   "outputs": [],
   "source": [
    "import cv2\n",
    "def predict_img(path):\n",
    "    img = cv2.imread(path)\n",
    "    img = cv2.resize(img,(224,224))/255\n",
    "    yp = model2.predict_on_batch(img.reshape(1,224,224,3)).argmax()\n",
    "    if yp==0:\n",
    "        return('jute')               # this yp = 0 is Jute is given by checking traindata.indices\n",
    "    elif yp==1:                      # also same for all\n",
    "        return('maize')\n",
    "    elif yp==2:\n",
    "        return('rice')\n",
    "    elif yp==3:\n",
    "        return('sugarcane')\n",
    "    elif yp==4:\n",
    "        return('wheat')"
   ]
  },
  {
   "cell_type": "code",
   "execution_count": 31,
   "id": "5b42b6dd",
   "metadata": {},
   "outputs": [],
   "source": [
    "import os\n",
    "filenames = os.listdir('../../../../Dataset/Agriculture_crop_prediction/test_crop_image/')"
   ]
  },
  {
   "cell_type": "code",
   "execution_count": 32,
   "id": "893f025e",
   "metadata": {},
   "outputs": [],
   "source": [
    "original =[]\n",
    "predicted = []\n",
    "for filename in filenames:\n",
    "    output = predict_img('../../../../Dataset/Agriculture_crop_prediction/test_crop_image/'+filename)\n",
    "    original.append(filename)\n",
    "    predicted.append(output)"
   ]
  },
  {
   "cell_type": "code",
   "execution_count": 33,
   "id": "1cf320e3",
   "metadata": {},
   "outputs": [],
   "source": [
    "import pandas as pd"
   ]
  },
  {
   "cell_type": "code",
   "execution_count": 34,
   "id": "95c13dd0",
   "metadata": {},
   "outputs": [],
   "source": [
    "df2 = pd.DataFrame()"
   ]
  },
  {
   "cell_type": "code",
   "execution_count": 35,
   "id": "d29c6143",
   "metadata": {},
   "outputs": [],
   "source": [
    "predict_count = []\n",
    "for i in range(len(original)):\n",
    "    original[i] = original[i].lower()\n",
    "    predicted[i] = predicted[i].lower()\n",
    "    if original[i][:3] == predicted[i][:3]:\n",
    "        predict_count.append(1)\n",
    "    else:\n",
    "        predict_count.append(0)"
   ]
  },
  {
   "cell_type": "code",
   "execution_count": 36,
   "id": "c8fbef78",
   "metadata": {},
   "outputs": [
    {
     "data": {
      "text/html": [
       "<div>\n",
       "<style scoped>\n",
       "    .dataframe tbody tr th:only-of-type {\n",
       "        vertical-align: middle;\n",
       "    }\n",
       "\n",
       "    .dataframe tbody tr th {\n",
       "        vertical-align: top;\n",
       "    }\n",
       "\n",
       "    .dataframe thead th {\n",
       "        text-align: right;\n",
       "    }\n",
       "</style>\n",
       "<table border=\"1\" class=\"dataframe\">\n",
       "  <thead>\n",
       "    <tr style=\"text-align: right;\">\n",
       "      <th></th>\n",
       "      <th>original</th>\n",
       "      <th>predicted</th>\n",
       "      <th>predicted_count</th>\n",
       "    </tr>\n",
       "  </thead>\n",
       "  <tbody>\n",
       "    <tr>\n",
       "      <th>0</th>\n",
       "      <td>jute-field.jpg</td>\n",
       "      <td>maize</td>\n",
       "      <td>0</td>\n",
       "    </tr>\n",
       "    <tr>\n",
       "      <th>1</th>\n",
       "      <td>jute002.jpg</td>\n",
       "      <td>maize</td>\n",
       "      <td>0</td>\n",
       "    </tr>\n",
       "    <tr>\n",
       "      <th>2</th>\n",
       "      <td>jute003.jpg</td>\n",
       "      <td>maize</td>\n",
       "      <td>0</td>\n",
       "    </tr>\n",
       "    <tr>\n",
       "      <th>3</th>\n",
       "      <td>jute03.jpg</td>\n",
       "      <td>maize</td>\n",
       "      <td>0</td>\n",
       "    </tr>\n",
       "    <tr>\n",
       "      <th>4</th>\n",
       "      <td>jutefield.jpg</td>\n",
       "      <td>maize</td>\n",
       "      <td>0</td>\n",
       "    </tr>\n",
       "  </tbody>\n",
       "</table>\n",
       "</div>"
      ],
      "text/plain": [
       "         original predicted  predicted_count\n",
       "0  jute-field.jpg     maize                0\n",
       "1     jute002.jpg     maize                0\n",
       "2     jute003.jpg     maize                0\n",
       "3      jute03.jpg     maize                0\n",
       "4   jutefield.jpg     maize                0"
      ]
     },
     "execution_count": 36,
     "metadata": {},
     "output_type": "execute_result"
    }
   ],
   "source": [
    "df2['original'] = original\n",
    "df2['predicted'] = predicted\n",
    "df2['predicted_count'] = predict_count\n",
    "df2.head()"
   ]
  },
  {
   "cell_type": "code",
   "execution_count": 37,
   "id": "875e2f6c",
   "metadata": {},
   "outputs": [
    {
     "data": {
      "text/plain": [
       "11"
      ]
     },
     "execution_count": 37,
     "metadata": {},
     "output_type": "execute_result"
    }
   ],
   "source": [
    "df2['predicted_count'].value_counts()[1]"
   ]
  },
  {
   "cell_type": "code",
   "execution_count": 38,
   "id": "9ebe49ee",
   "metadata": {},
   "outputs": [],
   "source": [
    "# 11 correctly predicted out of 51"
   ]
  },
  {
   "cell_type": "code",
   "execution_count": 39,
   "id": "9f9daaa6",
   "metadata": {},
   "outputs": [
    {
     "data": {
      "text/plain": [
       "0.21568627450980393"
      ]
     },
     "execution_count": 39,
     "metadata": {},
     "output_type": "execute_result"
    }
   ],
   "source": [
    "score = df2['predicted_count'].value_counts()[1]/len(predict_count)\n",
    "score"
   ]
  },
  {
   "cell_type": "markdown",
   "id": "71729b69",
   "metadata": {},
   "source": [
    "### 3) Inception Model :"
   ]
  },
  {
   "cell_type": "code",
   "execution_count": 40,
   "id": "e8a33dd2",
   "metadata": {},
   "outputs": [],
   "source": [
    "from tensorflow.keras.models import load_model"
   ]
  },
  {
   "cell_type": "code",
   "execution_count": 41,
   "id": "25125883",
   "metadata": {},
   "outputs": [],
   "source": [
    "model3 = load_model('Inceptionv3/crop_inceptionv3_1st.h5', compile = False)"
   ]
  },
  {
   "cell_type": "code",
   "execution_count": 42,
   "id": "0206d03a",
   "metadata": {},
   "outputs": [],
   "source": [
    "import cv2\n",
    "def predict_img(path):\n",
    "    img = cv2.imread(path)\n",
    "    img = cv2.resize(img,(224,224))/255\n",
    "    yp = model3.predict_on_batch(img.reshape(1,224,224,3)).argmax()\n",
    "    if yp==0:\n",
    "        return('jute')               # this yp = 0 is Jute is given by checking traindata.indices\n",
    "    elif yp==1:                      # also same for all\n",
    "        return('maize')\n",
    "    elif yp==2:\n",
    "        return('rice')\n",
    "    elif yp==3:\n",
    "        return('sugarcane')\n",
    "    elif yp==4:\n",
    "        return('wheat')"
   ]
  },
  {
   "cell_type": "code",
   "execution_count": 43,
   "id": "554e13e4",
   "metadata": {},
   "outputs": [],
   "source": [
    "import os\n",
    "filenames = os.listdir('../../../../Dataset/Agriculture_crop_prediction/test_crop_image/')"
   ]
  },
  {
   "cell_type": "code",
   "execution_count": 44,
   "id": "1a96c32f",
   "metadata": {},
   "outputs": [],
   "source": [
    "original =[]\n",
    "predicted = []\n",
    "for filename in filenames:\n",
    "    output = predict_img('../../../../Dataset/Agriculture_crop_prediction/test_crop_image/'+filename)\n",
    "    original.append(filename)\n",
    "    predicted.append(output)"
   ]
  },
  {
   "cell_type": "code",
   "execution_count": 45,
   "id": "5c58bbff",
   "metadata": {},
   "outputs": [],
   "source": [
    "import pandas as pd\n",
    "df3 = pd.DataFrame()"
   ]
  },
  {
   "cell_type": "code",
   "execution_count": 46,
   "id": "64dca8f3",
   "metadata": {},
   "outputs": [],
   "source": [
    "predict_count = []\n",
    "for i in range(len(original)):\n",
    "    original[i] = original[i].lower()\n",
    "    predicted[i] = predicted[i].lower()\n",
    "    if original[i][:3] == predicted[i][:3]:\n",
    "        predict_count.append(1)\n",
    "    else:\n",
    "        predict_count.append(0)"
   ]
  },
  {
   "cell_type": "code",
   "execution_count": 47,
   "id": "d0c475bc",
   "metadata": {},
   "outputs": [
    {
     "data": {
      "text/html": [
       "<div>\n",
       "<style scoped>\n",
       "    .dataframe tbody tr th:only-of-type {\n",
       "        vertical-align: middle;\n",
       "    }\n",
       "\n",
       "    .dataframe tbody tr th {\n",
       "        vertical-align: top;\n",
       "    }\n",
       "\n",
       "    .dataframe thead th {\n",
       "        text-align: right;\n",
       "    }\n",
       "</style>\n",
       "<table border=\"1\" class=\"dataframe\">\n",
       "  <thead>\n",
       "    <tr style=\"text-align: right;\">\n",
       "      <th></th>\n",
       "      <th>original</th>\n",
       "      <th>predicted</th>\n",
       "      <th>predicted_count</th>\n",
       "    </tr>\n",
       "  </thead>\n",
       "  <tbody>\n",
       "    <tr>\n",
       "      <th>0</th>\n",
       "      <td>jute-field.jpg</td>\n",
       "      <td>jute</td>\n",
       "      <td>1</td>\n",
       "    </tr>\n",
       "    <tr>\n",
       "      <th>1</th>\n",
       "      <td>jute002.jpg</td>\n",
       "      <td>jute</td>\n",
       "      <td>1</td>\n",
       "    </tr>\n",
       "    <tr>\n",
       "      <th>2</th>\n",
       "      <td>jute003.jpg</td>\n",
       "      <td>jute</td>\n",
       "      <td>1</td>\n",
       "    </tr>\n",
       "    <tr>\n",
       "      <th>3</th>\n",
       "      <td>jute03.jpg</td>\n",
       "      <td>rice</td>\n",
       "      <td>0</td>\n",
       "    </tr>\n",
       "    <tr>\n",
       "      <th>4</th>\n",
       "      <td>jutefield.jpg</td>\n",
       "      <td>rice</td>\n",
       "      <td>0</td>\n",
       "    </tr>\n",
       "  </tbody>\n",
       "</table>\n",
       "</div>"
      ],
      "text/plain": [
       "         original predicted  predicted_count\n",
       "0  jute-field.jpg      jute                1\n",
       "1     jute002.jpg      jute                1\n",
       "2     jute003.jpg      jute                1\n",
       "3      jute03.jpg      rice                0\n",
       "4   jutefield.jpg      rice                0"
      ]
     },
     "execution_count": 47,
     "metadata": {},
     "output_type": "execute_result"
    }
   ],
   "source": [
    "df3['original'] = original\n",
    "df3['predicted'] = predicted\n",
    "df3['predicted_count'] = predict_count\n",
    "df3.head()"
   ]
  },
  {
   "cell_type": "code",
   "execution_count": 48,
   "id": "559e0d83",
   "metadata": {},
   "outputs": [
    {
     "data": {
      "text/plain": [
       "29"
      ]
     },
     "execution_count": 48,
     "metadata": {},
     "output_type": "execute_result"
    }
   ],
   "source": [
    "df3['predicted_count'].value_counts()[1]"
   ]
  },
  {
   "cell_type": "code",
   "execution_count": 49,
   "id": "fbdf630b",
   "metadata": {},
   "outputs": [],
   "source": [
    "# 29 correctly predicted out of 51"
   ]
  },
  {
   "cell_type": "code",
   "execution_count": 50,
   "id": "579b5fc4",
   "metadata": {},
   "outputs": [
    {
     "data": {
      "text/plain": [
       "0.5686274509803921"
      ]
     },
     "execution_count": 50,
     "metadata": {},
     "output_type": "execute_result"
    }
   ],
   "source": [
    "score = df3['predicted_count'].value_counts()[1]/len(predict_count)\n",
    "score"
   ]
  },
  {
   "cell_type": "markdown",
   "id": "73855179",
   "metadata": {},
   "source": [
    "# For Kag2 i/p data :"
   ]
  },
  {
   "cell_type": "markdown",
   "id": "c4172e14",
   "metadata": {},
   "source": [
    "### 1) Own Model :"
   ]
  },
  {
   "cell_type": "code",
   "execution_count": 51,
   "id": "99fc40a4",
   "metadata": {},
   "outputs": [],
   "source": [
    "from tensorflow.keras.models import load_model"
   ]
  },
  {
   "cell_type": "code",
   "execution_count": 52,
   "id": "29eb1e06",
   "metadata": {},
   "outputs": [],
   "source": [
    "model11 = load_model('Own_model_crop/crop_img_own_kag2.h5', compile = False)"
   ]
  },
  {
   "cell_type": "code",
   "execution_count": 53,
   "id": "9b5f3558",
   "metadata": {},
   "outputs": [
    {
     "name": "stdout",
     "output_type": "stream",
     "text": [
      "Found 201 images belonging to 5 classes.\n"
     ]
    }
   ],
   "source": [
    "from tensorflow.keras.preprocessing.image import ImageDataGenerator\n",
    "data_gen = ImageDataGenerator(rotation_range=0.2, zoom_range=0.2,\n",
    "                             horizontal_flip=True, rescale=1/255)\n",
    "train_data = data_gen.flow_from_directory( directory='../../../../Dataset/Agriculture_crop_prediction/crop_images/',\n",
    "                           target_size=(224,224))"
   ]
  },
  {
   "cell_type": "code",
   "execution_count": 54,
   "id": "dca4e350",
   "metadata": {},
   "outputs": [
    {
     "data": {
      "text/plain": [
       "{'jute': 0, 'maize': 1, 'rice': 2, 'sugarcane': 3, 'wheat': 4}"
      ]
     },
     "execution_count": 54,
     "metadata": {},
     "output_type": "execute_result"
    }
   ],
   "source": [
    "train_data.class_indices"
   ]
  },
  {
   "cell_type": "code",
   "execution_count": 55,
   "id": "d7708c05",
   "metadata": {},
   "outputs": [],
   "source": [
    "import cv2\n",
    "def predict_img(path):\n",
    "    img = cv2.imread(path)\n",
    "    img = cv2.resize(img,(224,224))/255\n",
    "    yp = model11.predict_on_batch(img.reshape(1,224,224,3)).argmax()\n",
    "    if yp==0:\n",
    "        return('jute')             # this yp = 0 is Jute is given by checking traindata.indices\n",
    "    elif yp==1:                    # also same for all\n",
    "        return('maize')\n",
    "    elif yp==2:\n",
    "        return('rice')\n",
    "    elif yp==3:\n",
    "        return('sugarcane')\n",
    "    elif yp==4:\n",
    "        return('wheat')"
   ]
  },
  {
   "cell_type": "code",
   "execution_count": 56,
   "id": "d7d6cd4d",
   "metadata": {},
   "outputs": [],
   "source": [
    "import os\n",
    "filenames = os.listdir('../../../../Dataset/Agriculture_crop_prediction/test_crop_image/')"
   ]
  },
  {
   "cell_type": "code",
   "execution_count": 57,
   "id": "36c3498c",
   "metadata": {},
   "outputs": [],
   "source": [
    "original =[]\n",
    "predicted = []\n",
    "for filename in filenames:\n",
    "    output = predict_img('../../../../Dataset/Agriculture_crop_prediction/test_crop_image/'+filename)\n",
    "    original.append(filename)\n",
    "    predicted.append(output)"
   ]
  },
  {
   "cell_type": "code",
   "execution_count": 58,
   "id": "4288784f",
   "metadata": {},
   "outputs": [],
   "source": [
    "import pandas as pd\n",
    "df11 = pd.DataFrame()"
   ]
  },
  {
   "cell_type": "code",
   "execution_count": 59,
   "id": "20038437",
   "metadata": {},
   "outputs": [],
   "source": [
    "predict_count = []\n",
    "for i in range(len(original)):\n",
    "    original[i] = original[i].lower()\n",
    "    predicted[i] = predicted[i].lower()\n",
    "    if original[i][:3] == predicted[i][:3]:\n",
    "        predict_count.append(1)\n",
    "    else:\n",
    "        predict_count.append(0)"
   ]
  },
  {
   "cell_type": "code",
   "execution_count": 60,
   "id": "1251ca7b",
   "metadata": {},
   "outputs": [
    {
     "data": {
      "text/html": [
       "<div>\n",
       "<style scoped>\n",
       "    .dataframe tbody tr th:only-of-type {\n",
       "        vertical-align: middle;\n",
       "    }\n",
       "\n",
       "    .dataframe tbody tr th {\n",
       "        vertical-align: top;\n",
       "    }\n",
       "\n",
       "    .dataframe thead th {\n",
       "        text-align: right;\n",
       "    }\n",
       "</style>\n",
       "<table border=\"1\" class=\"dataframe\">\n",
       "  <thead>\n",
       "    <tr style=\"text-align: right;\">\n",
       "      <th></th>\n",
       "      <th>original</th>\n",
       "      <th>predicted</th>\n",
       "      <th>predicted_count</th>\n",
       "    </tr>\n",
       "  </thead>\n",
       "  <tbody>\n",
       "    <tr>\n",
       "      <th>0</th>\n",
       "      <td>jute-field.jpg</td>\n",
       "      <td>sugarcane</td>\n",
       "      <td>0</td>\n",
       "    </tr>\n",
       "    <tr>\n",
       "      <th>1</th>\n",
       "      <td>jute002.jpg</td>\n",
       "      <td>jute</td>\n",
       "      <td>1</td>\n",
       "    </tr>\n",
       "    <tr>\n",
       "      <th>2</th>\n",
       "      <td>jute003.jpg</td>\n",
       "      <td>sugarcane</td>\n",
       "      <td>0</td>\n",
       "    </tr>\n",
       "    <tr>\n",
       "      <th>3</th>\n",
       "      <td>jute03.jpg</td>\n",
       "      <td>jute</td>\n",
       "      <td>1</td>\n",
       "    </tr>\n",
       "    <tr>\n",
       "      <th>4</th>\n",
       "      <td>jutefield.jpg</td>\n",
       "      <td>rice</td>\n",
       "      <td>0</td>\n",
       "    </tr>\n",
       "  </tbody>\n",
       "</table>\n",
       "</div>"
      ],
      "text/plain": [
       "         original  predicted  predicted_count\n",
       "0  jute-field.jpg  sugarcane                0\n",
       "1     jute002.jpg       jute                1\n",
       "2     jute003.jpg  sugarcane                0\n",
       "3      jute03.jpg       jute                1\n",
       "4   jutefield.jpg       rice                0"
      ]
     },
     "execution_count": 60,
     "metadata": {},
     "output_type": "execute_result"
    }
   ],
   "source": [
    "df11['original'] = original\n",
    "df11['predicted'] = predicted\n",
    "df11['predicted_count'] = predict_count\n",
    "df11.head()"
   ]
  },
  {
   "cell_type": "code",
   "execution_count": 61,
   "id": "adc2c94c",
   "metadata": {},
   "outputs": [
    {
     "data": {
      "text/plain": [
       "15"
      ]
     },
     "execution_count": 61,
     "metadata": {},
     "output_type": "execute_result"
    }
   ],
   "source": [
    "df11['predicted_count'].value_counts()[1]"
   ]
  },
  {
   "cell_type": "code",
   "execution_count": 62,
   "id": "9011c84e",
   "metadata": {},
   "outputs": [],
   "source": [
    "# 15 correctly predicted out of 51"
   ]
  },
  {
   "cell_type": "code",
   "execution_count": 63,
   "id": "a767717d",
   "metadata": {},
   "outputs": [
    {
     "data": {
      "text/plain": [
       "0.29411764705882354"
      ]
     },
     "execution_count": 63,
     "metadata": {},
     "output_type": "execute_result"
    }
   ],
   "source": [
    "score = df11['predicted_count'].value_counts()[1]/len(predict_count)\n",
    "score"
   ]
  },
  {
   "cell_type": "markdown",
   "id": "7d7d44ea",
   "metadata": {},
   "source": [
    "### 2) Resnet50 Model :"
   ]
  },
  {
   "cell_type": "code",
   "execution_count": 64,
   "id": "fef808b9",
   "metadata": {},
   "outputs": [],
   "source": [
    "from tensorflow.keras.models import load_model"
   ]
  },
  {
   "cell_type": "code",
   "execution_count": 65,
   "id": "d2536b3e",
   "metadata": {},
   "outputs": [],
   "source": [
    "model22 = load_model('Resnet50_crop/crop_kag2_resnet50.h5', compile = False)"
   ]
  },
  {
   "cell_type": "code",
   "execution_count": 66,
   "id": "939b6e21",
   "metadata": {},
   "outputs": [],
   "source": [
    "import cv2\n",
    "def predict_img(path):\n",
    "    img = cv2.imread(path)\n",
    "    img = cv2.resize(img,(224,224))/255\n",
    "    yp = model22.predict_on_batch(img.reshape(1,224,224,3)).argmax()\n",
    "    if yp==0:\n",
    "        return('jute')                # this yp = 0 is Jute is given by checking traindata.indices\n",
    "    elif yp==1:                       # also same for all\n",
    "        return('maize')\n",
    "    elif yp==2:\n",
    "        return('rice')\n",
    "    elif yp==3:\n",
    "        return('sugarcane')\n",
    "    elif yp==4:\n",
    "        return('wheat')"
   ]
  },
  {
   "cell_type": "code",
   "execution_count": 67,
   "id": "a294b725",
   "metadata": {},
   "outputs": [],
   "source": [
    "import os\n",
    "filenames = os.listdir('../../../../Dataset/Agriculture_crop_prediction/test_crop_image/')"
   ]
  },
  {
   "cell_type": "code",
   "execution_count": 68,
   "id": "665d8191",
   "metadata": {},
   "outputs": [],
   "source": [
    "original =[]\n",
    "predicted = []\n",
    "for filename in filenames:\n",
    "    output = predict_img('../../../../Dataset/Agriculture_crop_prediction/test_crop_image/'+filename)\n",
    "    original.append(filename)\n",
    "    predicted.append(output)"
   ]
  },
  {
   "cell_type": "code",
   "execution_count": 69,
   "id": "3ecb4efb",
   "metadata": {},
   "outputs": [],
   "source": [
    "import pandas as pd\n",
    "df22 = pd.DataFrame()"
   ]
  },
  {
   "cell_type": "code",
   "execution_count": 70,
   "id": "dd0ef1d7",
   "metadata": {},
   "outputs": [
    {
     "data": {
      "text/html": [
       "<div>\n",
       "<style scoped>\n",
       "    .dataframe tbody tr th:only-of-type {\n",
       "        vertical-align: middle;\n",
       "    }\n",
       "\n",
       "    .dataframe tbody tr th {\n",
       "        vertical-align: top;\n",
       "    }\n",
       "\n",
       "    .dataframe thead th {\n",
       "        text-align: right;\n",
       "    }\n",
       "</style>\n",
       "<table border=\"1\" class=\"dataframe\">\n",
       "  <thead>\n",
       "    <tr style=\"text-align: right;\">\n",
       "      <th></th>\n",
       "      <th>original</th>\n",
       "      <th>predicted</th>\n",
       "      <th>predicted_count</th>\n",
       "    </tr>\n",
       "  </thead>\n",
       "  <tbody>\n",
       "    <tr>\n",
       "      <th>0</th>\n",
       "      <td>jute-field.jpg</td>\n",
       "      <td>jute</td>\n",
       "      <td>0</td>\n",
       "    </tr>\n",
       "    <tr>\n",
       "      <th>1</th>\n",
       "      <td>jute002.jpg</td>\n",
       "      <td>jute</td>\n",
       "      <td>1</td>\n",
       "    </tr>\n",
       "    <tr>\n",
       "      <th>2</th>\n",
       "      <td>jute003.jpg</td>\n",
       "      <td>jute</td>\n",
       "      <td>0</td>\n",
       "    </tr>\n",
       "    <tr>\n",
       "      <th>3</th>\n",
       "      <td>jute03.jpg</td>\n",
       "      <td>jute</td>\n",
       "      <td>1</td>\n",
       "    </tr>\n",
       "    <tr>\n",
       "      <th>4</th>\n",
       "      <td>jutefield.jpg</td>\n",
       "      <td>jute</td>\n",
       "      <td>0</td>\n",
       "    </tr>\n",
       "  </tbody>\n",
       "</table>\n",
       "</div>"
      ],
      "text/plain": [
       "         original predicted  predicted_count\n",
       "0  jute-field.jpg      jute                0\n",
       "1     jute002.jpg      jute                1\n",
       "2     jute003.jpg      jute                0\n",
       "3      jute03.jpg      jute                1\n",
       "4   jutefield.jpg      jute                0"
      ]
     },
     "execution_count": 70,
     "metadata": {},
     "output_type": "execute_result"
    }
   ],
   "source": [
    "df22['original'] = original\n",
    "df22['predicted'] = predicted\n",
    "df22['predicted_count'] = predict_count\n",
    "df22.head()"
   ]
  },
  {
   "cell_type": "code",
   "execution_count": 71,
   "id": "cc3f98c9",
   "metadata": {},
   "outputs": [
    {
     "data": {
      "text/plain": [
       "15"
      ]
     },
     "execution_count": 71,
     "metadata": {},
     "output_type": "execute_result"
    }
   ],
   "source": [
    "df22['predicted_count'].value_counts()[1]"
   ]
  },
  {
   "cell_type": "code",
   "execution_count": 72,
   "id": "896a77a2",
   "metadata": {},
   "outputs": [],
   "source": [
    "# 15 correctly predicted out of 51"
   ]
  },
  {
   "cell_type": "code",
   "execution_count": 73,
   "id": "982f50c1",
   "metadata": {},
   "outputs": [
    {
     "data": {
      "text/plain": [
       "0.29411764705882354"
      ]
     },
     "execution_count": 73,
     "metadata": {},
     "output_type": "execute_result"
    }
   ],
   "source": [
    "score = df22['predicted_count'].value_counts()[1]/len(predict_count)\n",
    "score"
   ]
  },
  {
   "cell_type": "markdown",
   "id": "3165bea0",
   "metadata": {},
   "source": [
    "###  3) Inception model :"
   ]
  },
  {
   "cell_type": "code",
   "execution_count": 74,
   "id": "1f610941",
   "metadata": {},
   "outputs": [],
   "source": [
    "from tensorflow.keras.models import load_model"
   ]
  },
  {
   "cell_type": "code",
   "execution_count": 75,
   "id": "149699a1",
   "metadata": {},
   "outputs": [],
   "source": [
    "model33 = load_model('Inceptionv3/crop_inceptionv3_kag2.h5', compile = False)"
   ]
  },
  {
   "cell_type": "code",
   "execution_count": 76,
   "id": "e46758fd",
   "metadata": {},
   "outputs": [],
   "source": [
    "import cv2\n",
    "def predict_img(path):\n",
    "    img = cv2.imread(path)\n",
    "    img = cv2.resize(img,(224,224))/255\n",
    "    yp = model33.predict_on_batch(img.reshape(1,224,224,3)).argmax()\n",
    "    if yp==0:\n",
    "        return('jute')               # this yp = 0 is Jute is given by checking traindata.indices\n",
    "    elif yp==1:                      # also same for all\n",
    "        return('maize')\n",
    "    elif yp==2:\n",
    "        return('rice')\n",
    "    elif yp==3:\n",
    "        return('sugarcane')\n",
    "    elif yp==4:\n",
    "        return('wheat')"
   ]
  },
  {
   "cell_type": "code",
   "execution_count": 77,
   "id": "a62d1945",
   "metadata": {},
   "outputs": [],
   "source": [
    "import os\n",
    "filenames = os.listdir('../../../../Dataset/Agriculture_crop_prediction/test_crop_image/')"
   ]
  },
  {
   "cell_type": "code",
   "execution_count": 78,
   "id": "06826c49",
   "metadata": {},
   "outputs": [],
   "source": [
    "original =[]\n",
    "predicted = []\n",
    "for filename in filenames:\n",
    "    output = predict_img('../../../../Dataset/Agriculture_crop_prediction/test_crop_image/'+filename)\n",
    "    original.append(filename)\n",
    "    predicted.append(output)"
   ]
  },
  {
   "cell_type": "code",
   "execution_count": 79,
   "id": "7f56441b",
   "metadata": {},
   "outputs": [],
   "source": [
    "import pandas as pd\n",
    "df33 = pd.DataFrame()"
   ]
  },
  {
   "cell_type": "code",
   "execution_count": 80,
   "id": "d2249bdc",
   "metadata": {},
   "outputs": [],
   "source": [
    "predict_count = []\n",
    "for i in range(len(original)):\n",
    "    original[i] = original[i].lower()\n",
    "    predicted[i] = predicted[i].lower()\n",
    "    if original[i][:3] == predicted[i][:3]:\n",
    "        predict_count.append(1)\n",
    "    else:\n",
    "        predict_count.append(0)"
   ]
  },
  {
   "cell_type": "code",
   "execution_count": 81,
   "id": "7fb56b53",
   "metadata": {},
   "outputs": [
    {
     "data": {
      "text/html": [
       "<div>\n",
       "<style scoped>\n",
       "    .dataframe tbody tr th:only-of-type {\n",
       "        vertical-align: middle;\n",
       "    }\n",
       "\n",
       "    .dataframe tbody tr th {\n",
       "        vertical-align: top;\n",
       "    }\n",
       "\n",
       "    .dataframe thead th {\n",
       "        text-align: right;\n",
       "    }\n",
       "</style>\n",
       "<table border=\"1\" class=\"dataframe\">\n",
       "  <thead>\n",
       "    <tr style=\"text-align: right;\">\n",
       "      <th></th>\n",
       "      <th>original</th>\n",
       "      <th>predicted</th>\n",
       "      <th>predicted_count</th>\n",
       "    </tr>\n",
       "  </thead>\n",
       "  <tbody>\n",
       "    <tr>\n",
       "      <th>0</th>\n",
       "      <td>jute-field.jpg</td>\n",
       "      <td>jute</td>\n",
       "      <td>1</td>\n",
       "    </tr>\n",
       "    <tr>\n",
       "      <th>1</th>\n",
       "      <td>jute002.jpg</td>\n",
       "      <td>sugarcane</td>\n",
       "      <td>0</td>\n",
       "    </tr>\n",
       "    <tr>\n",
       "      <th>2</th>\n",
       "      <td>jute003.jpg</td>\n",
       "      <td>rice</td>\n",
       "      <td>0</td>\n",
       "    </tr>\n",
       "    <tr>\n",
       "      <th>3</th>\n",
       "      <td>jute03.jpg</td>\n",
       "      <td>rice</td>\n",
       "      <td>0</td>\n",
       "    </tr>\n",
       "    <tr>\n",
       "      <th>4</th>\n",
       "      <td>jutefield.jpg</td>\n",
       "      <td>maize</td>\n",
       "      <td>0</td>\n",
       "    </tr>\n",
       "  </tbody>\n",
       "</table>\n",
       "</div>"
      ],
      "text/plain": [
       "         original  predicted  predicted_count\n",
       "0  jute-field.jpg       jute                1\n",
       "1     jute002.jpg  sugarcane                0\n",
       "2     jute003.jpg       rice                0\n",
       "3      jute03.jpg       rice                0\n",
       "4   jutefield.jpg      maize                0"
      ]
     },
     "execution_count": 81,
     "metadata": {},
     "output_type": "execute_result"
    }
   ],
   "source": [
    "df33['original'] = original\n",
    "df33['predicted'] = predicted\n",
    "df33['predicted_count'] = predict_count\n",
    "df33.head()"
   ]
  },
  {
   "cell_type": "code",
   "execution_count": 82,
   "id": "7c36a9b9",
   "metadata": {},
   "outputs": [
    {
     "data": {
      "text/plain": [
       "24"
      ]
     },
     "execution_count": 82,
     "metadata": {},
     "output_type": "execute_result"
    }
   ],
   "source": [
    "df33['predicted_count'].value_counts()[1]"
   ]
  },
  {
   "cell_type": "code",
   "execution_count": 83,
   "id": "a9ca7150",
   "metadata": {},
   "outputs": [],
   "source": [
    "# 24 correctly predicted out of 51"
   ]
  },
  {
   "cell_type": "code",
   "execution_count": 84,
   "id": "f1e24b3f",
   "metadata": {},
   "outputs": [
    {
     "data": {
      "text/plain": [
       "0.47058823529411764"
      ]
     },
     "execution_count": 84,
     "metadata": {},
     "output_type": "execute_result"
    }
   ],
   "source": [
    "score = df33['predicted_count'].value_counts()[1]/len(predict_count)\n",
    "score"
   ]
  },
  {
   "cell_type": "markdown",
   "id": "6a5d1b54",
   "metadata": {},
   "source": [
    "# For some more img i/p data :"
   ]
  },
  {
   "cell_type": "markdown",
   "id": "23e06a3f",
   "metadata": {},
   "source": [
    "### 1) Own Model :"
   ]
  },
  {
   "cell_type": "code",
   "execution_count": 85,
   "id": "ba9aeac1",
   "metadata": {},
   "outputs": [],
   "source": [
    "from tensorflow.keras.models import load_model"
   ]
  },
  {
   "cell_type": "code",
   "execution_count": 86,
   "id": "a8cafb12",
   "metadata": {},
   "outputs": [],
   "source": [
    "model111 = load_model('Own_model_crop/crop_img_own_some_more_img.h5', compile = False)"
   ]
  },
  {
   "cell_type": "code",
   "execution_count": 87,
   "id": "bc1f2208",
   "metadata": {},
   "outputs": [
    {
     "name": "stdout",
     "output_type": "stream",
     "text": [
      "Found 50 images belonging to 5 classes.\n"
     ]
    }
   ],
   "source": [
    "from tensorflow.keras.preprocessing.image import ImageDataGenerator\n",
    "data_gen = ImageDataGenerator(rotation_range=0.2, zoom_range=0.2,\n",
    "                             horizontal_flip=True, rescale=1/255)\n",
    "train_data = data_gen.flow_from_directory( directory='../../../../Dataset/Agriculture_crop_prediction/some_more_images/some_more_images/',\n",
    "                           target_size=(224,224))"
   ]
  },
  {
   "cell_type": "code",
   "execution_count": 88,
   "id": "60e4eedd",
   "metadata": {},
   "outputs": [
    {
     "data": {
      "text/plain": [
       "{'Wheat': 0, 'jute': 1, 'maize': 2, 'rice': 3, 'sugarcane': 4}"
      ]
     },
     "execution_count": 88,
     "metadata": {},
     "output_type": "execute_result"
    }
   ],
   "source": [
    "train_data.class_indices"
   ]
  },
  {
   "cell_type": "code",
   "execution_count": 89,
   "id": "21fd97a9",
   "metadata": {},
   "outputs": [],
   "source": [
    "import cv2\n",
    "def predict_img(path):\n",
    "    img = cv2.imread(path)\n",
    "    img = cv2.resize(img,(224,224))/255\n",
    "    yp = model111.predict_on_batch(img.reshape(1,224,224,3)).argmax()\n",
    "    if yp==0:\n",
    "        return('wheat')             # this yp = 0 is Wheat is given by checking traindata.indices\n",
    "    elif yp==1:                     # also same for all\n",
    "        return('jute')\n",
    "    elif yp==2:\n",
    "        return('maize')\n",
    "    elif yp==3:\n",
    "        return('rice')\n",
    "    elif yp==4:\n",
    "        return('sugarcane')"
   ]
  },
  {
   "cell_type": "code",
   "execution_count": 90,
   "id": "23187017",
   "metadata": {},
   "outputs": [],
   "source": [
    "import os\n",
    "filenames = os.listdir('../../../../Dataset/Agriculture_crop_prediction/test_crop_image/')"
   ]
  },
  {
   "cell_type": "code",
   "execution_count": 91,
   "id": "10d320f9",
   "metadata": {},
   "outputs": [],
   "source": [
    "original =[]\n",
    "predicted = []\n",
    "for filename in filenames:\n",
    "    output = predict_img('../../../../Dataset/Agriculture_crop_prediction/test_crop_image/'+filename)\n",
    "    original.append(filename)\n",
    "    predicted.append(output)"
   ]
  },
  {
   "cell_type": "code",
   "execution_count": 92,
   "id": "dd6d359e",
   "metadata": {},
   "outputs": [],
   "source": [
    "import pandas as pd\n",
    "df111 = pd.DataFrame()"
   ]
  },
  {
   "cell_type": "code",
   "execution_count": 93,
   "id": "d881cabb",
   "metadata": {},
   "outputs": [],
   "source": [
    "predict_count = []\n",
    "for i in range(len(original)):\n",
    "    original[i] = original[i].lower()\n",
    "    predicted[i] = predicted[i].lower()\n",
    "    if original[i][:3] == predicted[i][:3]:\n",
    "        predict_count.append(1)\n",
    "    else:\n",
    "        predict_count.append(0)"
   ]
  },
  {
   "cell_type": "code",
   "execution_count": 94,
   "id": "55846c7f",
   "metadata": {},
   "outputs": [
    {
     "data": {
      "text/html": [
       "<div>\n",
       "<style scoped>\n",
       "    .dataframe tbody tr th:only-of-type {\n",
       "        vertical-align: middle;\n",
       "    }\n",
       "\n",
       "    .dataframe tbody tr th {\n",
       "        vertical-align: top;\n",
       "    }\n",
       "\n",
       "    .dataframe thead th {\n",
       "        text-align: right;\n",
       "    }\n",
       "</style>\n",
       "<table border=\"1\" class=\"dataframe\">\n",
       "  <thead>\n",
       "    <tr style=\"text-align: right;\">\n",
       "      <th></th>\n",
       "      <th>original</th>\n",
       "      <th>predicted</th>\n",
       "      <th>predicted_count</th>\n",
       "    </tr>\n",
       "  </thead>\n",
       "  <tbody>\n",
       "    <tr>\n",
       "      <th>0</th>\n",
       "      <td>jute-field.jpg</td>\n",
       "      <td>maize</td>\n",
       "      <td>0</td>\n",
       "    </tr>\n",
       "    <tr>\n",
       "      <th>1</th>\n",
       "      <td>jute002.jpg</td>\n",
       "      <td>sugarcane</td>\n",
       "      <td>0</td>\n",
       "    </tr>\n",
       "    <tr>\n",
       "      <th>2</th>\n",
       "      <td>jute003.jpg</td>\n",
       "      <td>sugarcane</td>\n",
       "      <td>0</td>\n",
       "    </tr>\n",
       "    <tr>\n",
       "      <th>3</th>\n",
       "      <td>jute03.jpg</td>\n",
       "      <td>jute</td>\n",
       "      <td>1</td>\n",
       "    </tr>\n",
       "    <tr>\n",
       "      <th>4</th>\n",
       "      <td>jutefield.jpg</td>\n",
       "      <td>maize</td>\n",
       "      <td>0</td>\n",
       "    </tr>\n",
       "  </tbody>\n",
       "</table>\n",
       "</div>"
      ],
      "text/plain": [
       "         original  predicted  predicted_count\n",
       "0  jute-field.jpg      maize                0\n",
       "1     jute002.jpg  sugarcane                0\n",
       "2     jute003.jpg  sugarcane                0\n",
       "3      jute03.jpg       jute                1\n",
       "4   jutefield.jpg      maize                0"
      ]
     },
     "execution_count": 94,
     "metadata": {},
     "output_type": "execute_result"
    }
   ],
   "source": [
    "df111['original'] = original\n",
    "df111['predicted'] = predicted\n",
    "df111['predicted_count'] = predict_count\n",
    "df111.head()"
   ]
  },
  {
   "cell_type": "code",
   "execution_count": 95,
   "id": "c3e3c596",
   "metadata": {},
   "outputs": [
    {
     "data": {
      "text/plain": [
       "10"
      ]
     },
     "execution_count": 95,
     "metadata": {},
     "output_type": "execute_result"
    }
   ],
   "source": [
    "df111['predicted_count'].value_counts()[1]"
   ]
  },
  {
   "cell_type": "code",
   "execution_count": 96,
   "id": "2772a826",
   "metadata": {},
   "outputs": [],
   "source": [
    "# 10 correctly predicted out of 51"
   ]
  },
  {
   "cell_type": "code",
   "execution_count": 97,
   "id": "8f1cfdca",
   "metadata": {},
   "outputs": [
    {
     "data": {
      "text/plain": [
       "0.19607843137254902"
      ]
     },
     "execution_count": 97,
     "metadata": {},
     "output_type": "execute_result"
    }
   ],
   "source": [
    "score = df111['predicted_count'].value_counts()[1]/len(predict_count)\n",
    "score"
   ]
  },
  {
   "cell_type": "markdown",
   "id": "dcbef964",
   "metadata": {},
   "source": [
    "### 2) Resnet50 Model :"
   ]
  },
  {
   "cell_type": "code",
   "execution_count": 98,
   "id": "3d165d85",
   "metadata": {},
   "outputs": [],
   "source": [
    "from tensorflow.keras.models import load_model"
   ]
  },
  {
   "cell_type": "code",
   "execution_count": 99,
   "id": "e6201444",
   "metadata": {},
   "outputs": [],
   "source": [
    "model222 = load_model('Resnet50_crop/crop_some_more_images_resnet50.h5', compile = False)"
   ]
  },
  {
   "cell_type": "code",
   "execution_count": 100,
   "id": "8d74553a",
   "metadata": {},
   "outputs": [],
   "source": [
    "import cv2\n",
    "def predict_img(path):\n",
    "    img = cv2.imread(path)\n",
    "    img = cv2.resize(img,(224,224))/255\n",
    "    yp = model222.predict_on_batch(img.reshape(1,224,224,3)).argmax()\n",
    "    if yp==1:\n",
    "        return('jute')              # this yp = 0 is Wheat is given by checking traindata.indices\n",
    "    elif yp==2:                     # also same for all\n",
    "        return('maize')\n",
    "    elif yp==3:\n",
    "        return('rice')\n",
    "    elif yp==4:\n",
    "        return('sugarcane')\n",
    "    elif yp==0:\n",
    "        return('wheat')"
   ]
  },
  {
   "cell_type": "code",
   "execution_count": 101,
   "id": "30e8ad30",
   "metadata": {},
   "outputs": [],
   "source": [
    "import os\n",
    "filenames = os.listdir('../../../../Dataset/Agriculture_crop_prediction/test_crop_image/')"
   ]
  },
  {
   "cell_type": "code",
   "execution_count": 102,
   "id": "73e40d82",
   "metadata": {},
   "outputs": [],
   "source": [
    "original =[]\n",
    "predicted = []\n",
    "for filename in filenames:\n",
    "    output = predict_img('../../../../Dataset/Agriculture_crop_prediction/test_crop_image/'+filename)\n",
    "    original.append(filename)\n",
    "    predicted.append(output)"
   ]
  },
  {
   "cell_type": "code",
   "execution_count": 103,
   "id": "711787ec",
   "metadata": {},
   "outputs": [],
   "source": [
    "import pandas as pd\n",
    "df222 = pd.DataFrame()"
   ]
  },
  {
   "cell_type": "code",
   "execution_count": 104,
   "id": "8cd8ae4f",
   "metadata": {},
   "outputs": [],
   "source": [
    "predict_count = []\n",
    "for i in range(len(original)):\n",
    "    original[i] = original[i].lower()\n",
    "    predicted[i] = predicted[i].lower()\n",
    "    if original[i][:3] == predicted[i][:3]:\n",
    "        predict_count.append(1)\n",
    "    else:\n",
    "        predict_count.append(0)"
   ]
  },
  {
   "cell_type": "code",
   "execution_count": 105,
   "id": "d8e8c635",
   "metadata": {},
   "outputs": [
    {
     "data": {
      "text/html": [
       "<div>\n",
       "<style scoped>\n",
       "    .dataframe tbody tr th:only-of-type {\n",
       "        vertical-align: middle;\n",
       "    }\n",
       "\n",
       "    .dataframe tbody tr th {\n",
       "        vertical-align: top;\n",
       "    }\n",
       "\n",
       "    .dataframe thead th {\n",
       "        text-align: right;\n",
       "    }\n",
       "</style>\n",
       "<table border=\"1\" class=\"dataframe\">\n",
       "  <thead>\n",
       "    <tr style=\"text-align: right;\">\n",
       "      <th></th>\n",
       "      <th>original</th>\n",
       "      <th>predicted</th>\n",
       "      <th>predicted_count</th>\n",
       "    </tr>\n",
       "  </thead>\n",
       "  <tbody>\n",
       "    <tr>\n",
       "      <th>0</th>\n",
       "      <td>jute-field.jpg</td>\n",
       "      <td>sugarcane</td>\n",
       "      <td>0</td>\n",
       "    </tr>\n",
       "    <tr>\n",
       "      <th>1</th>\n",
       "      <td>jute002.jpg</td>\n",
       "      <td>sugarcane</td>\n",
       "      <td>0</td>\n",
       "    </tr>\n",
       "    <tr>\n",
       "      <th>2</th>\n",
       "      <td>jute003.jpg</td>\n",
       "      <td>sugarcane</td>\n",
       "      <td>0</td>\n",
       "    </tr>\n",
       "    <tr>\n",
       "      <th>3</th>\n",
       "      <td>jute03.jpg</td>\n",
       "      <td>sugarcane</td>\n",
       "      <td>0</td>\n",
       "    </tr>\n",
       "    <tr>\n",
       "      <th>4</th>\n",
       "      <td>jutefield.jpg</td>\n",
       "      <td>maize</td>\n",
       "      <td>0</td>\n",
       "    </tr>\n",
       "  </tbody>\n",
       "</table>\n",
       "</div>"
      ],
      "text/plain": [
       "         original  predicted  predicted_count\n",
       "0  jute-field.jpg  sugarcane                0\n",
       "1     jute002.jpg  sugarcane                0\n",
       "2     jute003.jpg  sugarcane                0\n",
       "3      jute03.jpg  sugarcane                0\n",
       "4   jutefield.jpg      maize                0"
      ]
     },
     "execution_count": 105,
     "metadata": {},
     "output_type": "execute_result"
    }
   ],
   "source": [
    "df222['original'] = original\n",
    "df222['predicted'] = predicted\n",
    "df222['predicted_count'] = predict_count\n",
    "df222.head()"
   ]
  },
  {
   "cell_type": "code",
   "execution_count": 106,
   "id": "a002a08f",
   "metadata": {},
   "outputs": [
    {
     "data": {
      "text/plain": [
       "10"
      ]
     },
     "execution_count": 106,
     "metadata": {},
     "output_type": "execute_result"
    }
   ],
   "source": [
    "df222['predicted_count'].value_counts()[1]"
   ]
  },
  {
   "cell_type": "code",
   "execution_count": 107,
   "id": "ea82717f",
   "metadata": {},
   "outputs": [],
   "source": [
    "# 10 correctly predicted out of 51"
   ]
  },
  {
   "cell_type": "code",
   "execution_count": 108,
   "id": "32159107",
   "metadata": {},
   "outputs": [
    {
     "data": {
      "text/plain": [
       "0.19607843137254902"
      ]
     },
     "execution_count": 108,
     "metadata": {},
     "output_type": "execute_result"
    }
   ],
   "source": [
    "score = df222['predicted_count'].value_counts()[1]/len(predict_count)\n",
    "score"
   ]
  },
  {
   "cell_type": "markdown",
   "id": "2b5d71b8",
   "metadata": {},
   "source": [
    "### 3) Inception Model:"
   ]
  },
  {
   "cell_type": "code",
   "execution_count": 109,
   "id": "e5df6a16",
   "metadata": {},
   "outputs": [],
   "source": [
    "from tensorflow.keras.models import load_model"
   ]
  },
  {
   "cell_type": "code",
   "execution_count": 110,
   "id": "5601c288",
   "metadata": {},
   "outputs": [],
   "source": [
    "model333 = load_model('Inceptionv3/crop_inceptionv3_some_more_img.h5', compile = False)"
   ]
  },
  {
   "cell_type": "code",
   "execution_count": 111,
   "id": "c4526a0d",
   "metadata": {},
   "outputs": [],
   "source": [
    "import cv2\n",
    "def predict_img(path):\n",
    "    img = cv2.imread(path)\n",
    "    img = cv2.resize(img,(224,224))/255\n",
    "    yp = model333.predict_on_batch(img.reshape(1,224,224,3)).argmax()\n",
    "    if yp==1:\n",
    "        return('jute')                                     # this yp = 0 is Wheat is given by checking traindata.indices\n",
    "    elif yp==2:                                            # also same for all\n",
    "        return('maize')\n",
    "    elif yp==3:\n",
    "        return('rice')\n",
    "    elif yp==4:\n",
    "        return('sugarcane')\n",
    "    elif yp==0:\n",
    "        return('wheat')"
   ]
  },
  {
   "cell_type": "code",
   "execution_count": 112,
   "id": "2f28bac0",
   "metadata": {},
   "outputs": [],
   "source": [
    "import os\n",
    "filenames = os.listdir('../../../../Dataset/Agriculture_crop_prediction/test_crop_image/')"
   ]
  },
  {
   "cell_type": "code",
   "execution_count": 113,
   "id": "88203fb5",
   "metadata": {},
   "outputs": [],
   "source": [
    "original =[]\n",
    "predicted = []\n",
    "for filename in filenames:\n",
    "    output = predict_img('../../../../Dataset/Agriculture_crop_prediction/test_crop_image/'+filename)\n",
    "    original.append(filename)\n",
    "    predicted.append(output)"
   ]
  },
  {
   "cell_type": "code",
   "execution_count": 114,
   "id": "e8dc8c99",
   "metadata": {},
   "outputs": [],
   "source": [
    "import pandas as pd\n",
    "df333 = pd.DataFrame()"
   ]
  },
  {
   "cell_type": "code",
   "execution_count": 115,
   "id": "43668c31",
   "metadata": {},
   "outputs": [],
   "source": [
    "predict_count = []\n",
    "for i in range(len(original)):\n",
    "    original[i] = original[i].lower()\n",
    "    predicted[i] = predicted[i].lower()\n",
    "    if original[i][:3] == predicted[i][:3]:\n",
    "        predict_count.append(1)\n",
    "    else:\n",
    "        predict_count.append(0)"
   ]
  },
  {
   "cell_type": "code",
   "execution_count": 116,
   "id": "cc9d51cb",
   "metadata": {},
   "outputs": [
    {
     "data": {
      "text/html": [
       "<div>\n",
       "<style scoped>\n",
       "    .dataframe tbody tr th:only-of-type {\n",
       "        vertical-align: middle;\n",
       "    }\n",
       "\n",
       "    .dataframe tbody tr th {\n",
       "        vertical-align: top;\n",
       "    }\n",
       "\n",
       "    .dataframe thead th {\n",
       "        text-align: right;\n",
       "    }\n",
       "</style>\n",
       "<table border=\"1\" class=\"dataframe\">\n",
       "  <thead>\n",
       "    <tr style=\"text-align: right;\">\n",
       "      <th></th>\n",
       "      <th>original</th>\n",
       "      <th>predicted</th>\n",
       "      <th>predicted_count</th>\n",
       "    </tr>\n",
       "  </thead>\n",
       "  <tbody>\n",
       "    <tr>\n",
       "      <th>0</th>\n",
       "      <td>jute-field.jpg</td>\n",
       "      <td>maize</td>\n",
       "      <td>0</td>\n",
       "    </tr>\n",
       "    <tr>\n",
       "      <th>1</th>\n",
       "      <td>jute002.jpg</td>\n",
       "      <td>sugarcane</td>\n",
       "      <td>0</td>\n",
       "    </tr>\n",
       "    <tr>\n",
       "      <th>2</th>\n",
       "      <td>jute003.jpg</td>\n",
       "      <td>maize</td>\n",
       "      <td>0</td>\n",
       "    </tr>\n",
       "    <tr>\n",
       "      <th>3</th>\n",
       "      <td>jute03.jpg</td>\n",
       "      <td>maize</td>\n",
       "      <td>0</td>\n",
       "    </tr>\n",
       "    <tr>\n",
       "      <th>4</th>\n",
       "      <td>jutefield.jpg</td>\n",
       "      <td>sugarcane</td>\n",
       "      <td>0</td>\n",
       "    </tr>\n",
       "  </tbody>\n",
       "</table>\n",
       "</div>"
      ],
      "text/plain": [
       "         original  predicted  predicted_count\n",
       "0  jute-field.jpg      maize                0\n",
       "1     jute002.jpg  sugarcane                0\n",
       "2     jute003.jpg      maize                0\n",
       "3      jute03.jpg      maize                0\n",
       "4   jutefield.jpg  sugarcane                0"
      ]
     },
     "execution_count": 116,
     "metadata": {},
     "output_type": "execute_result"
    }
   ],
   "source": [
    "df333['original'] = original\n",
    "df333['predicted'] = predicted\n",
    "df333['predicted_count'] = predict_count\n",
    "df333.head()"
   ]
  },
  {
   "cell_type": "code",
   "execution_count": 117,
   "id": "4f007e91",
   "metadata": {},
   "outputs": [
    {
     "data": {
      "text/plain": [
       "21"
      ]
     },
     "execution_count": 117,
     "metadata": {},
     "output_type": "execute_result"
    }
   ],
   "source": [
    "df333['predicted_count'].value_counts()[1]"
   ]
  },
  {
   "cell_type": "code",
   "execution_count": 118,
   "id": "ac6900bd",
   "metadata": {},
   "outputs": [],
   "source": [
    "# 21 correctly predicted out of 51"
   ]
  },
  {
   "cell_type": "code",
   "execution_count": 119,
   "id": "ccac88a2",
   "metadata": {},
   "outputs": [
    {
     "data": {
      "text/plain": [
       "0.4117647058823529"
      ]
     },
     "execution_count": 119,
     "metadata": {},
     "output_type": "execute_result"
    }
   ],
   "source": [
    "score = df333['predicted_count'].value_counts()[1]/len(predict_count)\n",
    "score"
   ]
  }
 ],
 "metadata": {
  "kernelspec": {
   "display_name": "Python [conda env:dsml20_env1]",
   "language": "python",
   "name": "conda-env-dsml20_env1-py"
  },
  "language_info": {
   "codemirror_mode": {
    "name": "ipython",
    "version": 3
   },
   "file_extension": ".py",
   "mimetype": "text/x-python",
   "name": "python",
   "nbconvert_exporter": "python",
   "pygments_lexer": "ipython3",
   "version": "3.6.13"
  }
 },
 "nbformat": 4,
 "nbformat_minor": 5
}
